{
 "cells": [
  {
   "cell_type": "markdown",
   "metadata": {},
   "source": [
    "# Imports\n"
   ]
  },
  {
   "cell_type": "code",
   "execution_count": 19,
   "metadata": {},
   "outputs": [],
   "source": [
    "import pandas as pd\n",
    "import os\n",
    "import numpy as np\n",
    "import matplotlib.pyplot as plt\n",
    "from math import isnan\n",
    "import json\n",
    "import csv\n",
    "import random\n"
   ]
  },
  {
   "cell_type": "markdown",
   "metadata": {},
   "source": [
    "# Main"
   ]
  },
  {
   "cell_type": "code",
   "execution_count": 7,
   "metadata": {},
   "outputs": [
    {
     "name": "stdout",
     "output_type": "stream",
     "text": [
      "/home/tamara/Documents/U/Memoria/memoria/Script/\n"
     ]
    }
   ],
   "source": [
    "ROOT_DIR = os.getcwd() + '/'\n",
    "print(ROOT_DIR)\n",
    "filename = 'exports_goods_services_growth.tsv'\n",
    "codes = 'country_code.json'\n",
    "wikidata = 'country_wikidata.json'\n",
    "dict_file = 'wikidata_dict.json'\n",
    "del_file = 'eliminate.tsv'\n",
    "path_data = '/home/tamara/Documents/U/Memoria/memoria/Data/COVID-19_non_related/'\n",
    "path_covid = '/home/tamara/Documents/U/Memoria/memoria/Data/COVID-19_related/'\n",
    "path_clean_related = '/home/tamara/Documents/U/Memoria/memoria/Data/Clean_related/'\n",
    "path_clean_non_related = '/home/tamara/Documents/U/Memoria/memoria/Data/Clean_non_related/'\n",
    "path_check = '/home/tamara/Documents/U/Memoria/memoria/Data/to_check/'\n",
    "\n",
    "\n"
   ]
  },
  {
   "cell_type": "markdown",
   "metadata": {},
   "source": [
    "## Select 10 random variables"
   ]
  },
  {
   "cell_type": "code",
   "execution_count": 23,
   "metadata": {
    "collapsed": true
   },
   "outputs": [
    {
     "name": "stdout",
     "output_type": "stream",
     "text": [
      "['terrestrial_protected_areas.tsv', 'total_greenhouse_gas_emissions.tsv', 'fifa_women.tsv', 'antiretroviral_therapy_coverage.tsv', 'goods_services_imports.tsv', 'service_exports_commercial.tsv', 'savings_consumption_fixed_capital.tsv', 'high-technology_exports.tsv', 'consumption_iodized_salt.tsv', 'religion_population.tsv']\n"
     ]
    }
   ],
   "source": [
    "random.seed(4)\n",
    "\n",
    "directories = os.listdir(path_clean_non_related)\n",
    "sampling = random.choices(directories, k=10)\n",
    "print(sampling)"
   ]
  },
  {
   "cell_type": "code",
   "execution_count": 27,
   "metadata": {},
   "outputs": [
    {
     "data": {
      "text/html": [
       "<div>\n",
       "<style scoped>\n",
       "    .dataframe tbody tr th:only-of-type {\n",
       "        vertical-align: middle;\n",
       "    }\n",
       "\n",
       "    .dataframe tbody tr th {\n",
       "        vertical-align: top;\n",
       "    }\n",
       "\n",
       "    .dataframe thead th {\n",
       "        text-align: right;\n",
       "    }\n",
       "</style>\n",
       "<table border=\"1\" class=\"dataframe\">\n",
       "  <thead>\n",
       "    <tr style=\"text-align: right;\">\n",
       "      <th></th>\n",
       "      <th>Country</th>\n",
       "      <th>Tons</th>\n",
       "      <th>Change %</th>\n",
       "      <th>ID</th>\n",
       "    </tr>\n",
       "  </thead>\n",
       "  <tbody>\n",
       "    <tr>\n",
       "      <th>0</th>\n",
       "      <td>Afghanistan</td>\n",
       "      <td>18168.9</td>\n",
       "      <td>43.5</td>\n",
       "      <td>Q889</td>\n",
       "    </tr>\n",
       "    <tr>\n",
       "      <th>1</th>\n",
       "      <td>Albania</td>\n",
       "      <td>8898.6</td>\n",
       "      <td>-19.9</td>\n",
       "      <td>Q222</td>\n",
       "    </tr>\n",
       "    <tr>\n",
       "      <th>2</th>\n",
       "      <td>Algeria</td>\n",
       "      <td>176471.2</td>\n",
       "      <td>65.8</td>\n",
       "      <td>Q262</td>\n",
       "    </tr>\n",
       "    <tr>\n",
       "      <th>3</th>\n",
       "      <td>American Samoa</td>\n",
       "      <td>58.8</td>\n",
       "      <td>188.3</td>\n",
       "      <td>Q16641</td>\n",
       "    </tr>\n",
       "    <tr>\n",
       "      <th>4</th>\n",
       "      <td>Angola</td>\n",
       "      <td>41657.2</td>\n",
       "      <td>-18.0</td>\n",
       "      <td>Q916</td>\n",
       "    </tr>\n",
       "    <tr>\n",
       "      <th>...</th>\n",
       "      <td>...</td>\n",
       "      <td>...</td>\n",
       "      <td>...</td>\n",
       "      <td>...</td>\n",
       "    </tr>\n",
       "    <tr>\n",
       "      <th>171</th>\n",
       "      <td>Vietnam</td>\n",
       "      <td>310664.1</td>\n",
       "      <td>213.6</td>\n",
       "      <td>Q881</td>\n",
       "    </tr>\n",
       "    <tr>\n",
       "      <th>172</th>\n",
       "      <td>Virgin Islands (U.S.)</td>\n",
       "      <td>61.5</td>\n",
       "      <td>35.8</td>\n",
       "      <td>Q11703</td>\n",
       "    </tr>\n",
       "    <tr>\n",
       "      <th>173</th>\n",
       "      <td>Yemen, Rep.</td>\n",
       "      <td>40924.6</td>\n",
       "      <td>218.5</td>\n",
       "      <td>Q805</td>\n",
       "    </tr>\n",
       "    <tr>\n",
       "      <th>174</th>\n",
       "      <td>Zambia</td>\n",
       "      <td>320254.2</td>\n",
       "      <td>52.8</td>\n",
       "      <td>Q953</td>\n",
       "    </tr>\n",
       "    <tr>\n",
       "      <th>175</th>\n",
       "      <td>Zimbabwe</td>\n",
       "      <td>72057.8</td>\n",
       "      <td>105.3</td>\n",
       "      <td>Q954</td>\n",
       "    </tr>\n",
       "  </tbody>\n",
       "</table>\n",
       "<p>176 rows × 4 columns</p>\n",
       "</div>"
      ],
      "text/plain": [
       "                   Country      Tons  Change %      ID\n",
       "0              Afghanistan   18168.9      43.5    Q889\n",
       "1                  Albania    8898.6     -19.9    Q222\n",
       "2                  Algeria  176471.2      65.8    Q262\n",
       "3           American Samoa      58.8     188.3  Q16641\n",
       "4                   Angola   41657.2     -18.0    Q916\n",
       "..                     ...       ...       ...     ...\n",
       "171                Vietnam  310664.1     213.6    Q881\n",
       "172  Virgin Islands (U.S.)      61.5      35.8  Q11703\n",
       "173            Yemen, Rep.   40924.6     218.5    Q805\n",
       "174                 Zambia  320254.2      52.8    Q953\n",
       "175               Zimbabwe   72057.8     105.3    Q954\n",
       "\n",
       "[176 rows x 4 columns]"
      ]
     },
     "execution_count": 27,
     "metadata": {},
     "output_type": "execute_result"
    }
   ],
   "source": [
    "df = pd.read_csv(path_clean_non_related + sampling[1], sep='\\t')\n",
    "df"
   ]
  },
  {
   "cell_type": "code",
   "execution_count": null,
   "metadata": {},
   "outputs": [],
   "source": []
  }
 ],
 "metadata": {
  "kernelspec": {
   "display_name": "Python 3",
   "language": "python",
   "name": "python3"
  },
  "language_info": {
   "codemirror_mode": {
    "name": "ipython",
    "version": 3
   },
   "file_extension": ".py",
   "mimetype": "text/x-python",
   "name": "python",
   "nbconvert_exporter": "python",
   "pygments_lexer": "ipython3",
   "version": "3.7.6"
  }
 },
 "nbformat": 4,
 "nbformat_minor": 4
}
