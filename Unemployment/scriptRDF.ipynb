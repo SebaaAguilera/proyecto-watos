{
 "cells": [
  {
   "cell_type": "markdown",
   "metadata": {},
   "source": [
    "# Imports\n"
   ]
  },
  {
   "cell_type": "code",
   "execution_count": 1,
   "metadata": {},
   "outputs": [],
   "source": [
    "import pandas as pd\n",
    "import os\n",
    "import numpy as np\n",
    "import matplotlib.pyplot as plt\n",
    "from math import isnan\n",
    "import json\n",
    "import csv\n",
    "import random"
   ]
  },
  {
   "cell_type": "markdown",
   "metadata": {},
   "source": [
    "# Function"
   ]
  },
  {
   "cell_type": "code",
   "execution_count": 65,
   "metadata": {},
   "outputs": [],
   "source": [
    "def to_float(series):\n",
    "    series = series.str.replace(',','.').str.replace('−','-').astype(float)\n",
    "    return series\n",
    "def to_float_coma(series):\n",
    "    series =  series.str.replace(',','').astype(float)\n",
    "    return series\n",
    "def to_float_dot(series):\n",
    "    series =  series.str.replace('.','').astype(float)\n",
    "    return series\n",
    "def line_prepender(filename, line):\n",
    "    with open(filename, 'r+') as f:\n",
    "        content = f.read()\n",
    "        f.seek(0, 0)\n",
    "        f.write(line.rstrip('\\r\\n') + '\\n' + content)\n",
    "def add_list(filename, lines):\n",
    "    lines.reverse()\n",
    "    for i in lines:\n",
    "        line_prepender(filename, i)\n",
    "def get_owner(string):\n",
    "    if (string == 'The World Bank'):\n",
    "        return 'wd:Q7164';"
   ]
  },
  {
   "cell_type": "markdown",
   "metadata": {},
   "source": [
    "# Main"
   ]
  },
  {
   "cell_type": "code",
   "execution_count": 2,
   "metadata": {},
   "outputs": [],
   "source": [
    "# ROOT_DIR = os.getcwd() + '/'\n",
    "# print(ROOT_DIR)\n",
    "filename = 'exports_goods_services_growth.tsv'\n",
    "codes = 'country_code.json'\n",
    "wikidata = 'country_wikidata.json'\n",
    "dict_file = 'wikidata_dict.json'\n",
    "del_file = 'eliminate.tsv'\n",
    "\n",
    "#path_tarql = '../../tarql/examples/'\n",
    "path_tsv = 'tsv/'\n",
    "path_sparql = '../../memoria/RDF/sparql/'\n",
    "path_ttl = 'ttl/'"
   ]
  },
  {
   "cell_type": "code",
   "execution_count": 3,
   "metadata": {},
   "outputs": [],
   "source": [
    "def get_owner(string):\n",
    "    if (string == 'The World Bank'):\n",
    "        return 'wd:Q7164';"
   ]
  },
  {
   "cell_type": "code",
   "execution_count": 4,
   "metadata": {},
   "outputs": [
    {
     "data": {
      "text/html": [
       "<div>\n",
       "<style scoped>\n",
       "    .dataframe tbody tr th:only-of-type {\n",
       "        vertical-align: middle;\n",
       "    }\n",
       "\n",
       "    .dataframe tbody tr th {\n",
       "        vertical-align: top;\n",
       "    }\n",
       "\n",
       "    .dataframe thead th {\n",
       "        text-align: right;\n",
       "    }\n",
       "</style>\n",
       "<table border=\"1\" class=\"dataframe\">\n",
       "  <thead>\n",
       "    <tr style=\"text-align: right;\">\n",
       "      <th></th>\n",
       "      <th>Variable</th>\n",
       "      <th>Key name</th>\n",
       "      <th>Header</th>\n",
       "      <th>Unit of measurement</th>\n",
       "      <th>Date of access</th>\n",
       "      <th>Owner</th>\n",
       "      <th>Source</th>\n",
       "      <th>Dataset</th>\n",
       "      <th>Comment</th>\n",
       "      <th>Description</th>\n",
       "    </tr>\n",
       "  </thead>\n",
       "  <tbody>\n",
       "    <tr>\n",
       "      <th>0</th>\n",
       "      <td>Unemployment, male (% of male labor force) (mo...</td>\n",
       "      <td>unemployment_male</td>\n",
       "      <td>Country, %_2000, %_2018</td>\n",
       "      <td>% of male labor force, % of male labor force</td>\n",
       "      <td>22-09-2020</td>\n",
       "      <td>The World Bank</td>\n",
       "      <td>http://wdi.worldbank.org/table/2.5</td>\n",
       "      <td>unemploymentMale</td>\n",
       "      <td>The World Bank: 2.5 | Unemployment</td>\n",
       "      <td>Unemployment, male (% of male labor force) (mo...</td>\n",
       "    </tr>\n",
       "    <tr>\n",
       "      <th>1</th>\n",
       "      <td>Unemployment, female (% of female labor force)...</td>\n",
       "      <td>unemployment_female</td>\n",
       "      <td>Country, %_2000, %_2019</td>\n",
       "      <td>% of female labor force, % of female labor force</td>\n",
       "      <td>22-09-2020</td>\n",
       "      <td>The World Bank</td>\n",
       "      <td>http://wdi.worldbank.org/table/2.5</td>\n",
       "      <td>unemploymentFemale</td>\n",
       "      <td>The World Bank: 2.5 | Unemployment</td>\n",
       "      <td>Unemployment, female (% of female labor force)...</td>\n",
       "    </tr>\n",
       "    <tr>\n",
       "      <th>2</th>\n",
       "      <td>Unemployment, youth male (% of male labor forc...</td>\n",
       "      <td>unemployment_youth_male</td>\n",
       "      <td>Country, %_2000, %_2020</td>\n",
       "      <td>% of male labor force ages 15-24, % of male la...</td>\n",
       "      <td>22-09-2020</td>\n",
       "      <td>The World Bank</td>\n",
       "      <td>http://wdi.worldbank.org/table/2.5</td>\n",
       "      <td>unemploymentYouthMale</td>\n",
       "      <td>The World Bank: 2.5 | Unemployment</td>\n",
       "      <td>Unemployment, youth male (% of male labor forc...</td>\n",
       "    </tr>\n",
       "    <tr>\n",
       "      <th>3</th>\n",
       "      <td>Unemployment, youth female (% of female labor ...</td>\n",
       "      <td>unemployment_youth_female</td>\n",
       "      <td>Country, %_2000, %_2021</td>\n",
       "      <td>% of female labor force ages 15-24, % of male ...</td>\n",
       "      <td>22-09-2020</td>\n",
       "      <td>The World Bank</td>\n",
       "      <td>http://wdi.worldbank.org/table/2.5</td>\n",
       "      <td>unemploymentYouthFemale</td>\n",
       "      <td>The World Bank: 2.5 | Unemployment</td>\n",
       "      <td>Unemployment, youth female (% of female labor ...</td>\n",
       "    </tr>\n",
       "    <tr>\n",
       "      <th>4</th>\n",
       "      <td>Unemployment with basic education (% of total ...</td>\n",
       "      <td>unemployment_basic_education</td>\n",
       "      <td>Country, % unemployment</td>\n",
       "      <td>% of total labor force with basic education</td>\n",
       "      <td>22-09-2020</td>\n",
       "      <td>The World Bank</td>\n",
       "      <td>http://wdi.worldbank.org/table/2.5</td>\n",
       "      <td>unemploymentBasicEducation</td>\n",
       "      <td>The World Bank: 2.5 | Unemployment</td>\n",
       "      <td>Unemployment with basic education (% of total ...</td>\n",
       "    </tr>\n",
       "    <tr>\n",
       "      <th>5</th>\n",
       "      <td>Unemployment with intermediate education (% of...</td>\n",
       "      <td>unemployment_intermediate_education</td>\n",
       "      <td>Country, % unemployment</td>\n",
       "      <td>% of total labor force with intermediate educa...</td>\n",
       "      <td>22-09-2020</td>\n",
       "      <td>The World Bank</td>\n",
       "      <td>http://wdi.worldbank.org/table/2.5</td>\n",
       "      <td>unemploymentIntermediateEducation</td>\n",
       "      <td>The World Bank: 2.5 | Unemployment</td>\n",
       "      <td>Unemployment with intermediate education (% of...</td>\n",
       "    </tr>\n",
       "    <tr>\n",
       "      <th>6</th>\n",
       "      <td>Unemployment with advanced education (% of tot...</td>\n",
       "      <td>unemployment_advanced _education</td>\n",
       "      <td>Country, % unemployment</td>\n",
       "      <td>% of total labor force with advanced education</td>\n",
       "      <td>22-09-2020</td>\n",
       "      <td>The World Bank</td>\n",
       "      <td>http://wdi.worldbank.org/table/2.5</td>\n",
       "      <td>unemploymentAdvancedEducation</td>\n",
       "      <td>The World Bank: 2.5 | Unemployment</td>\n",
       "      <td>Unemployment with advanced education (% of tot...</td>\n",
       "    </tr>\n",
       "  </tbody>\n",
       "</table>\n",
       "</div>"
      ],
      "text/plain": [
       "                                            Variable  \\\n",
       "0  Unemployment, male (% of male labor force) (mo...   \n",
       "1  Unemployment, female (% of female labor force)...   \n",
       "2  Unemployment, youth male (% of male labor forc...   \n",
       "3  Unemployment, youth female (% of female labor ...   \n",
       "4  Unemployment with basic education (% of total ...   \n",
       "5  Unemployment with intermediate education (% of...   \n",
       "6  Unemployment with advanced education (% of tot...   \n",
       "\n",
       "                              Key name                   Header  \\\n",
       "0                    unemployment_male  Country, %_2000, %_2018   \n",
       "1                  unemployment_female  Country, %_2000, %_2019   \n",
       "2              unemployment_youth_male  Country, %_2000, %_2020   \n",
       "3            unemployment_youth_female  Country, %_2000, %_2021   \n",
       "4         unemployment_basic_education  Country, % unemployment   \n",
       "5  unemployment_intermediate_education  Country, % unemployment   \n",
       "6     unemployment_advanced _education  Country, % unemployment   \n",
       "\n",
       "                                 Unit of measurement Date of access  \\\n",
       "0       % of male labor force, % of male labor force     22-09-2020   \n",
       "1   % of female labor force, % of female labor force     22-09-2020   \n",
       "2  % of male labor force ages 15-24, % of male la...     22-09-2020   \n",
       "3  % of female labor force ages 15-24, % of male ...     22-09-2020   \n",
       "4        % of total labor force with basic education     22-09-2020   \n",
       "5  % of total labor force with intermediate educa...     22-09-2020   \n",
       "6     % of total labor force with advanced education     22-09-2020   \n",
       "\n",
       "            Owner                              Source  \\\n",
       "0  The World Bank  http://wdi.worldbank.org/table/2.5   \n",
       "1  The World Bank  http://wdi.worldbank.org/table/2.5   \n",
       "2  The World Bank  http://wdi.worldbank.org/table/2.5   \n",
       "3  The World Bank  http://wdi.worldbank.org/table/2.5   \n",
       "4  The World Bank  http://wdi.worldbank.org/table/2.5   \n",
       "5  The World Bank  http://wdi.worldbank.org/table/2.5   \n",
       "6  The World Bank  http://wdi.worldbank.org/table/2.5   \n",
       "\n",
       "                             Dataset                             Comment  \\\n",
       "0                   unemploymentMale  The World Bank: 2.5 | Unemployment   \n",
       "1                 unemploymentFemale  The World Bank: 2.5 | Unemployment   \n",
       "2              unemploymentYouthMale  The World Bank: 2.5 | Unemployment   \n",
       "3            unemploymentYouthFemale  The World Bank: 2.5 | Unemployment   \n",
       "4         unemploymentBasicEducation  The World Bank: 2.5 | Unemployment   \n",
       "5  unemploymentIntermediateEducation  The World Bank: 2.5 | Unemployment   \n",
       "6      unemploymentAdvancedEducation  The World Bank: 2.5 | Unemployment   \n",
       "\n",
       "                                         Description  \n",
       "0  Unemployment, male (% of male labor force) (mo...  \n",
       "1  Unemployment, female (% of female labor force)...  \n",
       "2  Unemployment, youth male (% of male labor forc...  \n",
       "3  Unemployment, youth female (% of female labor ...  \n",
       "4  Unemployment with basic education (% of total ...  \n",
       "5  Unemployment with intermediate education (% of...  \n",
       "6  Unemployment with advanced education (% of tot...  "
      ]
     },
     "execution_count": 4,
     "metadata": {},
     "output_type": "execute_result"
    }
   ],
   "source": [
    "df_dataset = pd.read_csv('project.tsv', sep='\\t')\n",
    "df_dataset"
   ]
  },
  {
   "cell_type": "code",
   "execution_count": 5,
   "metadata": {},
   "outputs": [],
   "source": [
    "files = df_dataset['Key name'].reset_index(drop=True)"
   ]
  },
  {
   "cell_type": "markdown",
   "metadata": {},
   "source": [
    "# INFO DATASET, ROWS (tsv to ttl)\n"
   ]
  },
  {
   "cell_type": "markdown",
   "metadata": {},
   "source": [
    "# Clean column name and add id_row\n",
    "\n"
   ]
  },
  {
   "cell_type": "code",
   "execution_count": 50,
   "metadata": {},
   "outputs": [
    {
     "name": "stdout",
     "output_type": "stream",
     "text": [
      "unemployment_youth_female\n"
     ]
    },
    {
     "data": {
      "text/html": [
       "<div>\n",
       "<style scoped>\n",
       "    .dataframe tbody tr th:only-of-type {\n",
       "        vertical-align: middle;\n",
       "    }\n",
       "\n",
       "    .dataframe tbody tr th {\n",
       "        vertical-align: top;\n",
       "    }\n",
       "\n",
       "    .dataframe thead th {\n",
       "        text-align: right;\n",
       "    }\n",
       "</style>\n",
       "<table border=\"1\" class=\"dataframe\">\n",
       "  <thead>\n",
       "    <tr style=\"text-align: right;\">\n",
       "      <th></th>\n",
       "      <th>Country</th>\n",
       "      <th>%_2000</th>\n",
       "      <th>%_2018</th>\n",
       "      <th>ID</th>\n",
       "    </tr>\n",
       "  </thead>\n",
       "  <tbody>\n",
       "    <tr>\n",
       "      <th>0</th>\n",
       "      <td>Afghanistan</td>\n",
       "      <td>22.9</td>\n",
       "      <td>21.0</td>\n",
       "      <td>Q889</td>\n",
       "    </tr>\n",
       "    <tr>\n",
       "      <th>1</th>\n",
       "      <td>Albania</td>\n",
       "      <td>24.7</td>\n",
       "      <td>24.5</td>\n",
       "      <td>Q222</td>\n",
       "    </tr>\n",
       "    <tr>\n",
       "      <th>2</th>\n",
       "      <td>Algeria</td>\n",
       "      <td>47.6</td>\n",
       "      <td>45.2</td>\n",
       "      <td>Q262</td>\n",
       "    </tr>\n",
       "    <tr>\n",
       "      <th>3</th>\n",
       "      <td>Angola</td>\n",
       "      <td>6.2</td>\n",
       "      <td>16.2</td>\n",
       "      <td>Q916</td>\n",
       "    </tr>\n",
       "    <tr>\n",
       "      <th>4</th>\n",
       "      <td>Argentina</td>\n",
       "      <td>36.2</td>\n",
       "      <td>28.2</td>\n",
       "      <td>Q414</td>\n",
       "    </tr>\n",
       "    <tr>\n",
       "      <th>...</th>\n",
       "      <td>...</td>\n",
       "      <td>...</td>\n",
       "      <td>...</td>\n",
       "      <td>...</td>\n",
       "    </tr>\n",
       "    <tr>\n",
       "      <th>182</th>\n",
       "      <td>Virgin Islands (U.S.)</td>\n",
       "      <td>26.0</td>\n",
       "      <td>28.5</td>\n",
       "      <td>Q11703</td>\n",
       "    </tr>\n",
       "    <tr>\n",
       "      <th>183</th>\n",
       "      <td>West Bank and Gaza</td>\n",
       "      <td>16.7</td>\n",
       "      <td>69.1</td>\n",
       "      <td>Q407199</td>\n",
       "    </tr>\n",
       "    <tr>\n",
       "      <th>184</th>\n",
       "      <td>Yemen, Rep.</td>\n",
       "      <td>14.3</td>\n",
       "      <td>34.1</td>\n",
       "      <td>Q805</td>\n",
       "    </tr>\n",
       "    <tr>\n",
       "      <th>185</th>\n",
       "      <td>Zambia</td>\n",
       "      <td>20.3</td>\n",
       "      <td>22.4</td>\n",
       "      <td>Q953</td>\n",
       "    </tr>\n",
       "    <tr>\n",
       "      <th>186</th>\n",
       "      <td>Zimbabwe</td>\n",
       "      <td>9.3</td>\n",
       "      <td>9.4</td>\n",
       "      <td>Q954</td>\n",
       "    </tr>\n",
       "  </tbody>\n",
       "</table>\n",
       "<p>187 rows × 4 columns</p>\n",
       "</div>"
      ],
      "text/plain": [
       "                   Country  %_2000  %_2018       ID\n",
       "0              Afghanistan    22.9    21.0     Q889\n",
       "1                  Albania    24.7    24.5     Q222\n",
       "2                  Algeria    47.6    45.2     Q262\n",
       "3                   Angola     6.2    16.2     Q916\n",
       "4                Argentina    36.2    28.2     Q414\n",
       "..                     ...     ...     ...      ...\n",
       "182  Virgin Islands (U.S.)    26.0    28.5   Q11703\n",
       "183     West Bank and Gaza    16.7    69.1  Q407199\n",
       "184            Yemen, Rep.    14.3    34.1     Q805\n",
       "185                 Zambia    20.3    22.4     Q953\n",
       "186               Zimbabwe     9.3     9.4     Q954\n",
       "\n",
       "[187 rows x 4 columns]"
      ]
     },
     "execution_count": 50,
     "metadata": {},
     "output_type": "execute_result"
    }
   ],
   "source": [
    "f = files[3]\n",
    "print(f)\n",
    "df = pd.read_csv(path_tsv + f + '.tsv', sep='\\t')\n",
    "df"
   ]
  },
  {
   "cell_type": "code",
   "execution_count": 51,
   "metadata": {},
   "outputs": [
    {
     "data": {
      "text/plain": [
       "Variable               Unemployment, youth female (% of female labor ...\n",
       "Key name                                       unemployment_youth_female\n",
       "Header                                           Country, %_2000, %_2021\n",
       "Unit of measurement    % of female labor force ages 15-24, % of male ...\n",
       "Date of access                                                22-09-2020\n",
       "Owner                                                     The World Bank\n",
       "Source                                http://wdi.worldbank.org/table/2.5\n",
       "Dataset                                          unemploymentYouthFemale\n",
       "Comment                               The World Bank: 2.5 | Unemployment\n",
       "Description            Unemployment, youth female (% of female labor ...\n",
       "Name: 3, dtype: object"
      ]
     },
     "execution_count": 51,
     "metadata": {},
     "output_type": "execute_result"
    }
   ],
   "source": [
    "var = df_dataset[df_dataset['Key name'] == f]\n",
    "var = var.iloc[0]\n",
    "var"
   ]
  },
  {
   "cell_type": "markdown",
   "metadata": {},
   "source": [
    "# Create dataset info"
   ]
  },
  {
   "cell_type": "code",
   "execution_count": 52,
   "metadata": {},
   "outputs": [],
   "source": [
    "\"\"\"\n",
    "eg:dataset-terrestrial_protected_areas a qb:DataSet;\n",
    "    dct:title       \"Terrestrial protected areas\"@en;\n",
    "    rdfs:label      \"terrestrial_protected_areas\"@en;\n",
    "    rdfs:comment    \"The World Bank: 3.4 | Deforestation and biodiversity\"@en;\n",
    "    dct:description \"Area percentage of terrestrial protected areas\"@en;\n",
    "    dct:publisher   eg:TheWorldBank;\n",
    "    dct:issued      \"2020-09-22\"^^xsd:date;\n",
    "    dct:source      <http://wdi.worldbank.org/tables> ;\n",
    "    dct:subject\n",
    "        sdmx-subject:3.1 ;      # Environment         \n",
    "    qb:structure eg:dsd-percentage ;  \n",
    "    sdmx-attribute:unitMeasure <http://dbpedia.org/resource/Year> ;\n",
    "    .\n",
    "\"\"\"\n",
    "\n",
    "DATASET= []\n",
    "\n",
    "dataset = 'c19:dataset-' + var['Dataset'] + ' a qb:Dataset;\\n'\n",
    "DATASET.append(dataset)\n",
    "\n",
    "title = '    dct:title       \"'+ var['Variable'] +'\"@en;\\n'\n",
    "#title = '    dct:title       \"Gross domestic product growth rate\"@en;\\n'\n",
    "DATASET.append(title)\n",
    "\n",
    "label = '    rdfs:label      \"'+ var['Key name'] + '\"@en;\\n'\n",
    "DATASET.append(label)\n",
    "\n",
    "comment = '    rdfs:comment    \"'+ var['Comment'] + '\"@en;\\n'\n",
    "DATASET.append(comment)\n",
    "\n",
    "description = '    dct:description \"'+ var['Description']+ '\"@en;\\n'\n",
    "DATASET.append(description)\n",
    "\n",
    "publisher = '    dct:publisher   '+ get_owner(var['Owner']) + ';\\n'\n",
    "DATASET.append(publisher)\n",
    "\n",
    "issued = '    dct:issued      \"'+ str(pd.to_datetime(var['Date of access']))[:10] + '\"^^xsd:date;\\n'\n",
    "DATASET.append(issued)\n",
    "\n",
    "source = '    dct:source      <' + var['Source'] + '> ;\\n'\n",
    "DATASET.append(source)\n",
    "\n",
    "structure_dataset = '    qb:structure    c19-structure:dsd-' + var['Dataset'] +' ; \\n'\n",
    "DATASET.append(structure_dataset)\n",
    "\n",
    "\n",
    "end = '.\\n'\n",
    "DATASET.append(end)\n",
    "DATASET.append('\\n')"
   ]
  },
  {
   "cell_type": "code",
   "execution_count": 53,
   "metadata": {},
   "outputs": [
    {
     "data": {
      "text/plain": [
       "['c19:dataset-unemploymentYouthFemale a qb:Dataset;\\n',\n",
       " '    dct:title       \"Unemployment, youth female (% of female labor force ages 15-24) (modeled ILO estimate)\"@en;\\n',\n",
       " '    rdfs:label      \"unemployment_youth_female\"@en;\\n',\n",
       " '    rdfs:comment    \"The World Bank: 2.5 | Unemployment\"@en;\\n',\n",
       " '    dct:description \"Unemployment, youth female (% of female labor force ages 15-24) (modeled ILO estimate)\"@en;\\n',\n",
       " '    dct:publisher   wd:Q7164;\\n',\n",
       " '    dct:issued      \"2020-09-22\"^^xsd:date;\\n',\n",
       " '    dct:source      <http://wdi.worldbank.org/table/2.5> ;\\n',\n",
       " '    qb:structure    c19-structure:dsd-unemploymentYouthFemale ; \\n',\n",
       " '.\\n',\n",
       " '\\n']"
      ]
     },
     "execution_count": 53,
     "metadata": {},
     "output_type": "execute_result"
    }
   ],
   "source": [
    "DATASET"
   ]
  },
  {
   "cell_type": "code",
   "execution_count": 54,
   "metadata": {},
   "outputs": [
    {
     "name": "stdout",
     "output_type": "stream",
     "text": [
      "ttl/unemployment_youth_female.ttl\n"
     ]
    }
   ],
   "source": [
    "output = path_ttl + f + '.ttl'\n",
    "print(output)"
   ]
  },
  {
   "cell_type": "markdown",
   "metadata": {},
   "source": [
    "# Observations"
   ]
  },
  {
   "cell_type": "markdown",
   "metadata": {},
   "source": [
    "### Save Education Datasets"
   ]
  },
  {
   "cell_type": "code",
   "execution_count": 31,
   "metadata": {},
   "outputs": [],
   "source": [
    "# Write\n",
    "out = open(output, \"w\")\n",
    "out.writelines(DATASET)\n",
    "makeObservationsEducation(var, df)\n",
    "out.close() "
   ]
  },
  {
   "cell_type": "code",
   "execution_count": 43,
   "metadata": {},
   "outputs": [],
   "source": [
    "# Write\n",
    "out = open(output, \"w\")\n",
    "out.writelines(DATASET)\n",
    "makeObservationsUnemployment(var, df)\n",
    "out.close() "
   ]
  },
  {
   "cell_type": "code",
   "execution_count": 55,
   "metadata": {},
   "outputs": [],
   "source": [
    "# Write\n",
    "out = open(output, \"w\")\n",
    "out.writelines(DATASET)\n",
    "makeObservationsYouthUnemployment(var, df)\n",
    "out.close() "
   ]
  },
  {
   "cell_type": "code",
   "execution_count": 15,
   "metadata": {},
   "outputs": [],
   "source": [
    "def makeObservationsUnemployment(info, data):\n",
    "    global output\n",
    "    for i in range(data.shape[0]):\n",
    "        observation = ['\\n']\n",
    "            \n",
    "        obs = 'c19:dataset-' + info['Dataset'] + '0' + str(i) + ' a qb:Observation;\\n'\n",
    "        observation.append(obs)\n",
    "\n",
    "        dataset = '    qb:dataSet                      c19:dataset-' + info['Dataset'] + ';\\n'\n",
    "        observation.append(dataset)\n",
    "\n",
    "        period  = '    c19-dimension:refPeriod         c19-interval:Year2000 ;\\n'\n",
    "        observation.append(period)\n",
    "        \n",
    "        sex     = '    sdmx-dimension:sex              sdmx-code:sex-F ;\\n'\n",
    "        observation.append(sex)\n",
    "\n",
    "        measure = '    c19-measure:' + info['Dataset'] + '\\t' + str(data['%_2000'].loc[i]) + ' ;\\n'\n",
    "        observation.append(measure)\n",
    "        \n",
    "        unitMul = '    sdmx-attribute:unitMultiplier   -2 ;\\n'\n",
    "        observation.append(unitMul)\n",
    "        \n",
    "        decimal = '    sdmx-attribute:decimals         1 ;\\n' \n",
    "        observation.append(decimal)\n",
    "        \n",
    "        \n",
    "        id_ctry = '    c19-dimension:refArea           wd:' + data['ID'].loc[i] + ' .\\n'\n",
    "        observation.append(id_ctry)\n",
    "        \n",
    "        out.writelines(observation) \n",
    "        \n",
    "        \n",
    "        observation = ['\\n']\n",
    "            \n",
    "        obs = 'c19:dataset-' + info['Dataset'] + '1' + str(i) + ' a qb:Observation;\\n'\n",
    "        observation.append(obs)\n",
    "        observation.append(dataset)\n",
    "\n",
    "        period  = '    c19-dimension:refPeriod         c19-interval:Year2018 ;\\n'\n",
    "        observation.append(period)\n",
    "        observation.append(sex)\n",
    "\n",
    "        measure = '    c19-measure:' + info['Dataset'] + '\\t' + str(data['%_2018'].loc[i]) + ' ;\\n'\n",
    "        observation.append(measure)\n",
    "        observation.append(unitMul)\n",
    "        observation.append(decimal)\n",
    "        observation.append(id_ctry)\n",
    "        \n",
    "        out.writelines(observation) "
   ]
  },
  {
   "cell_type": "code",
   "execution_count": 16,
   "metadata": {},
   "outputs": [],
   "source": [
    "def makeObservationsYouthUnemployment(info, data):\n",
    "    global output\n",
    "    for i in range(data.shape[0]):\n",
    "        observation = ['\\n']\n",
    "            \n",
    "        obs = 'c19:dataset-' + info['Dataset'] + '0' + str(i) + ' a qb:Observation;\\n'\n",
    "        observation.append(obs)\n",
    "\n",
    "        dataset = '    qb:dataSet                      c19:dataset-' + info['Dataset'] + ';\\n'\n",
    "        observation.append(dataset)\n",
    "\n",
    "        period  = '    c19-dimension:refPeriod         c19-interval:Year2000 ;\\n'\n",
    "        observation.append(period)\n",
    "        \n",
    "        sex     = '    sdmx-dimension:sex              sdmx-code:sex-F ;\\n'\n",
    "        observation.append(sex)\n",
    "        \n",
    "        age     = '    c19-dimension:ageInterval       c19-interval:Age15-24 ;\\n'\n",
    "        observation.append(age)\n",
    "\n",
    "        measure = '    c19-measure:' + info['Dataset'] + '\\t' + str(data['%_2000'].loc[i]) + ' ;\\n'\n",
    "        observation.append(measure)\n",
    "        \n",
    "        unitMul = '    sdmx-attribute:unitMultiplier   -2 ;\\n'\n",
    "        observation.append(unitMul)\n",
    "        \n",
    "        decimal = '    sdmx-attribute:decimals         1 ;\\n' \n",
    "        observation.append(decimal)\n",
    "        \n",
    "        \n",
    "        id_ctry = '    c19-dimension:refArea           wd:' + data['ID'].loc[i] + ' .\\n'\n",
    "        observation.append(id_ctry)\n",
    "        \n",
    "        out.writelines(observation) \n",
    "        \n",
    "        \n",
    "        observation = ['\\n']\n",
    "            \n",
    "        obs = 'c19:dataset-' + info['Dataset'] + '1' + str(i) + ' a qb:Observation;\\n'\n",
    "        observation.append(obs)\n",
    "        observation.append(dataset)\n",
    "\n",
    "        period  = '    c19-dimension:refPeriod         c19-interval:Year2018 ;\\n'\n",
    "        observation.append(period)\n",
    "        observation.append(sex)\n",
    "        observation.append(age)\n",
    "\n",
    "        measure = '    c19-measure:' + info['Dataset'] + '\\t' + str(data['%_2018'].loc[i]) + ' ;\\n'\n",
    "        observation.append(measure)\n",
    "        observation.append(unitMul)\n",
    "        observation.append(decimal)\n",
    "        observation.append(id_ctry)\n",
    "        \n",
    "        out.writelines(observation) "
   ]
  },
  {
   "cell_type": "code",
   "execution_count": 17,
   "metadata": {},
   "outputs": [],
   "source": [
    "def makeObservationsEducation(info, data):\n",
    "    global output\n",
    "    for i in range(data.shape[0]):\n",
    "        observation = ['\\n']\n",
    "\n",
    "        obs = 'c19:dataset-' + info['Dataset'] + '0' + str(i) + ' a qb:Observation;\\n'\n",
    "        observation.append(obs)\n",
    "\n",
    "        dataset = '    qb:dataSet                      c19:dataset-' + info['Dataset'] + ';\\n'\n",
    "        observation.append(dataset)\n",
    "        \n",
    "        period  = '    c19-dimension:refPeriod         c19-interval:Year2015-18 ;\\n'\n",
    "        observation.append(period)\n",
    "\n",
    "        measure = '    c19-measure:' + info['Dataset'] + '\\t' + str(data['%'].loc[i]) + ' ;\\n'\n",
    "        observation.append(measure)\n",
    "        \n",
    "        unitMul = '    sdmx-attribute:unitMultiplier   -2 ;\\n'\n",
    "        observation.append(unitMul)\n",
    "        \n",
    "        decimal = '    sdmx-attribute:decimals         1 ;\\n' \n",
    "        observation.append(decimal)\n",
    "\n",
    "        id_ctry = '    c19-dimension:refArea           wd:' + data['ID'].loc[i] + ' .\\n'\n",
    "        observation.append(id_ctry)\n",
    "\n",
    "        out.writelines(observation)"
   ]
  },
  {
   "cell_type": "markdown",
   "metadata": {},
   "source": [
    "Hasta aquí llegamos nosotros (por ahora)"
   ]
  },
  {
   "cell_type": "markdown",
   "metadata": {},
   "source": [
    "# Structure"
   ]
  },
  {
   "cell_type": "code",
   "execution_count": 44,
   "metadata": {},
   "outputs": [
    {
     "name": "stdout",
     "output_type": "stream",
     "text": [
      "ttl/structures.ttl\n"
     ]
    }
   ],
   "source": [
    "output = path_ttl + 'structures' + '.ttl'\n",
    "print(output)"
   ]
  },
  {
   "cell_type": "code",
   "execution_count": 80,
   "metadata": {},
   "outputs": [
    {
     "data": {
      "text/plain": [
       "'unemploymentYouthFemale'"
      ]
     },
     "execution_count": 80,
     "metadata": {},
     "output_type": "execute_result"
    }
   ],
   "source": [
    "# The dimensions\n",
    "n = 4\n",
    "\n",
    "dim1_name = 'refArea'\n",
    "dim2_name = 'refPeriod'\n",
    "dim3_name = 'ageInterval'\n",
    "\n",
    "\n",
    "# The measure(s)\n",
    "measure1_name = var['Dataset'] #measure_name generalmente es vacio\n",
    "#measure2_name = name + measure_name + 'PerCapita'\n",
    "measure1_name\n",
    "\n",
    "#"
   ]
  },
  {
   "cell_type": "code",
   "execution_count": 61,
   "metadata": {},
   "outputs": [],
   "source": [
    "def line_prepender(filename, line):\n",
    "    with open(filename, 'r+') as f:\n",
    "        content = f.read()\n",
    "        f.seek(0, 0)\n",
    "        f.write(line.rstrip('\\r\\n') + '\\n' + content)"
   ]
  },
  {
   "cell_type": "code",
   "execution_count": 60,
   "metadata": {},
   "outputs": [],
   "source": [
    "def add_list(filename, lines):\n",
    "    lines.reverse()\n",
    "    for i in lines:\n",
    "        line_prepender(filename, i)"
   ]
  },
  {
   "cell_type": "code",
   "execution_count": 83,
   "metadata": {},
   "outputs": [
    {
     "name": "stdout",
     "output_type": "stream",
     "text": [
      "unemploymentYouthFemale\n"
     ]
    }
   ],
   "source": [
    "struct = var['Dataset']\n",
    "print(struct)"
   ]
  },
  {
   "cell_type": "code",
   "execution_count": 84,
   "metadata": {},
   "outputs": [],
   "source": [
    "\"\"\"\n",
    "DIMENSION: EDAD, PAISES, ETC\n",
    "MEDIDA: %MUERTOS\n",
    "UNIDAD(unit measure):DOLARES, PESOS, MILLONES\n",
    "\"\"\"\n",
    "\n",
    "\n",
    "structure = [\"\\n # c19-structure:dsd-\" + struct]\n",
    "\n",
    "definition = \"c19-structure:dsd-\" + struct + \" a qb:DataStructureDefinition;\\n\"\n",
    "structure.append(definition)\n",
    "\n",
    "component = \"    qb:component\\n\"\n",
    "\n",
    "\n",
    "# The dimensions\n",
    "\n",
    "structure.append(component)\n",
    "dim1 = \"    [ qb:dimension c19-dimension:\" + dim1_name + \";               qb:order \" + str(n) + \" ],\\n\"\n",
    "dim2 = \"    [ qb:dimension c19-dimension:\" + dim2_name + \";               qb:order \" + str(n-1) + \" ],\\n\" #CAMBIAR SI ES MENOS DE 3 DIM\n",
    "dim3 = \"    [ qb:dimension c19-dimension:\" + dim3_name + \";               qb:order \" + str(n-2) + \" ],\\n\"\n",
    "dim_sex = \"    [ qb:dimension sdmx-dimension:sex;               qb:order \" + str(n-3) + \" ];\\n\"\n",
    "structure.append(dim1)\n",
    "structure.append(dim2)\n",
    "structure.append(dim3)\n",
    "structure.append(dim_sex)\n",
    "\n",
    "# The measure(s)\n",
    "structure.append(component)\n",
    "measure1 = \"    [ qb:measure c19-measure:\" + measure1_name + \" ];\\n\" # CAMBIAR SI ES MÁS DE UNA DIMENSION\n",
    "structure.append(measure1)\n",
    "#measure2 = \"    qb:measure c19-measure:\" + measure2_name + \" ];\\n\"\n",
    "#structure.append(measure2)\n",
    "\n",
    "# The attributes\n",
    "structure.append(component)\n",
    "decimalss = \"    [ qb:attribute sdmx-attribute:decimals ;\\n\"\n",
    "structure.append(decimalss)\n",
    "attribute = \"     qb:attribute sdmx-attribute:unitMeasure ;\\n\"\n",
    "#structure.append(attribute)\n",
    "#currencyy = \"    qb:attribute sdmx-attribute:currency ;\\n\"\n",
    "#structure.append(currencyy)\n",
    "unitMultiplier = \"    qb:attribute sdmx-attribute:unitMultiplier ;];\\n\"\n",
    "structure.append(unitMultiplier)\n",
    "\n",
    "# End\n",
    "structure.append(\".\\n\")\n"
   ]
  },
  {
   "cell_type": "markdown",
   "metadata": {},
   "source": [
    "add_list(path_ttl + 'structures.ttl', structure)"
   ]
  },
  {
   "cell_type": "markdown",
   "metadata": {},
   "source": [
    "# Measure"
   ]
  },
  {
   "cell_type": "code",
   "execution_count": 132,
   "metadata": {},
   "outputs": [
    {
     "name": "stdout",
     "output_type": "stream",
     "text": [
      "unemploymentMale\n"
     ]
    }
   ],
   "source": [
    "measure1_name = var['Dataset']\n",
    "print(measure1_name)"
   ]
  },
  {
   "cell_type": "code",
   "execution_count": 62,
   "metadata": {},
   "outputs": [],
   "source": [
    "labels = [\n",
    "    \"Unemployment Male\",\n",
    "    \"Unemployment Female\",\n",
    "    \"Unemployment Youth Male (15-24)\",\n",
    "    \"Unemployment Youth Female (15-24)\",\n",
    "    \"Unemployment Basic Education\",\n",
    "    \"Unemployment Intermediate Education\",\n",
    "    \"Unemployment Advanced Education\"\n",
    "]"
   ]
  },
  {
   "cell_type": "code",
   "execution_count": 69,
   "metadata": {},
   "outputs": [
    {
     "name": "stdout",
     "output_type": "stream",
     "text": [
      "unemploymentMale\n",
      "unemploymentFemale\n",
      "unemploymentYouthMale\n",
      "unemploymentYouthFemale\n",
      "unemploymentBasicEducation\n",
      "unemploymentIntermediateEducation\n",
      "unemploymentAdvancedEducation\n"
     ]
    }
   ],
   "source": [
    "output = path_ttl + 'dimension_measure.ttl'\n",
    "out = open(output, \"w\")\n",
    "for i in range(len(labels)):\n",
    "    lbl = labels[i]\n",
    "    f = files[i]\n",
    "    measure =['\\n']\n",
    "    var = df_dataset[df_dataset['Key name'] == f]\n",
    "    var = var.iloc[0]\n",
    "    measure1_name = var['Dataset']\n",
    "    \n",
    "    print(measure1_name)\n",
    "    definition = 'c19-measure:' + measure1_name + ' a rdf:Property, qb:MeasureProperty ;\\n'\n",
    "    measure.append(definition)\n",
    "    label = '    rdfs:label ' + '\"' + lbl + '\"' + '@en;\\n'\n",
    "    measure.append(label)\n",
    "    rdfs1 = '    rdfs:subPropertyOf sdmx-measure:obsValue;\\n'\n",
    "    measure.append(rdfs1)\n",
    "    rdfs2 = '    rdfs:range xsd:decimal ;\\n'\n",
    "    measure.append(rdfs2)\n",
    "    measure.append('.\\n')\n",
    "    #print(measure)\n",
    "    out.writelines(measure)\n",
    "    #add_list(path_ttl + 'dimension_measure.ttl', measure)\n",
    "out.close() "
   ]
  },
  {
   "cell_type": "code",
   "execution_count": 135,
   "metadata": {},
   "outputs": [],
   "source": [
    "add_list(path_ttl + 'dimension_measure.ttl', measure)"
   ]
  },
  {
   "cell_type": "markdown",
   "metadata": {},
   "source": [
    "# Intervals"
   ]
  },
  {
   "cell_type": "code",
   "execution_count": 139,
   "metadata": {},
   "outputs": [],
   "source": [
    "intervals = []\n",
    "age = \"\"\"\n",
    "c19-interval:Age15-24 a c19-interval:PercentileInterval ;\n",
    "    c19-interval:beginning 15 ;\n",
    "    c19-interval:end 24 ;\n",
    "    c19-interval:baseUnit wd:Q577 ;\n",
    "    rdfs:label \"15-24\" .\n",
    "    \n",
    "\"\"\"\n",
    "\n",
    "Year2000 = \"\"\"\n",
    "c19-interval:Year2000 a time:Interval ;\n",
    "    time:hasBeginning \"2000\"^^xsd:gYear ;\n",
    "    time:hasEnd \"2000\"^^xsd:gYear ;\n",
    "    rdfs:label \"2000\" .\n",
    " \n",
    "\"\"\"\n",
    "\n",
    "Year2018 = \"\"\"\n",
    "c19-interval:Year2018 a time:Interval ;\n",
    "    time:hasBeginning \"2018\"^^xsd:gYear ;\n",
    "    time:hasEnd \"2018\"^^xsd:gYear ;\n",
    "    rdfs:label \"2018\" . \n",
    "\"\"\""
   ]
  },
  {
   "cell_type": "code",
   "execution_count": 137,
   "metadata": {},
   "outputs": [],
   "source": [
    "line_prepender(path_ttl + \"intervals.ttl\", age)"
   ]
  },
  {
   "cell_type": "code",
   "execution_count": 138,
   "metadata": {},
   "outputs": [],
   "source": [
    "line_prepender(path_ttl + \"intervals.ttl\", Year2000)"
   ]
  },
  {
   "cell_type": "code",
   "execution_count": 140,
   "metadata": {},
   "outputs": [],
   "source": [
    "line_prepender(path_ttl + \"intervals.ttl\", Year2018)"
   ]
  }
 ],
 "metadata": {
  "kernelspec": {
   "display_name": "Python 3",
   "language": "python",
   "name": "python3"
  },
  "language_info": {
   "codemirror_mode": {
    "name": "ipython",
    "version": 3
   },
   "file_extension": ".py",
   "mimetype": "text/x-python",
   "name": "python",
   "nbconvert_exporter": "python",
   "pygments_lexer": "ipython3",
   "version": "3.8.5"
  }
 },
 "nbformat": 4,
 "nbformat_minor": 4
}
